{
 "cells": [
  {
   "cell_type": "code",
   "execution_count": 1,
   "metadata": {},
   "outputs": [],
   "source": [
    "from math import ceil\n",
    "\n",
    "import pandas as pd\n",
    "\n",
    "from mlxtend.frequent_patterns import fpgrowth\n",
    "from mlxtend.preprocessing import TransactionEncoder\n",
    "\n",
    "from eclat_algo import eclat, find_conf\n",
    "\n",
    "import os.path as osp"
   ]
  },
  {
   "cell_type": "markdown",
   "metadata": {},
   "source": [
    "## Read and transform data"
   ]
  },
  {
   "cell_type": "code",
   "execution_count": 2,
   "metadata": {},
   "outputs": [
    {
     "name": "stdout",
     "output_type": "stream",
     "text": [
      "<class 'pandas.core.frame.DataFrame'>\n",
      "RangeIndex: 38006 entries, 0 to 38005\n",
      "Data columns (total 5 columns):\n",
      " #   Column           Non-Null Count  Dtype \n",
      "---  ------           --------------  ----- \n",
      " 0   Member_number    38006 non-null  int64 \n",
      " 1   itemDescription  38006 non-null  object\n",
      " 2   Date             38006 non-null  int64 \n",
      " 3   Month            38006 non-null  int64 \n",
      " 4   Year             38006 non-null  int64 \n",
      "dtypes: int64(4), object(1)\n",
      "memory usage: 1.4+ MB\n"
     ]
    }
   ],
   "source": [
    "data = pd.read_csv(osp.join('..', 'Data', 'processed.csv'))\n",
    "data.info()"
   ]
  },
  {
   "cell_type": "code",
   "execution_count": 121,
   "metadata": {},
   "outputs": [
    {
     "data": {
      "text/html": [
       "<div>\n",
       "<style scoped>\n",
       "    .dataframe tbody tr th:only-of-type {\n",
       "        vertical-align: middle;\n",
       "    }\n",
       "\n",
       "    .dataframe tbody tr th {\n",
       "        vertical-align: top;\n",
       "    }\n",
       "\n",
       "    .dataframe thead th {\n",
       "        text-align: right;\n",
       "    }\n",
       "</style>\n",
       "<table border=\"1\" class=\"dataframe\">\n",
       "  <thead>\n",
       "    <tr style=\"text-align: right;\">\n",
       "      <th></th>\n",
       "      <th>itemDescription</th>\n",
       "      <th>Tid</th>\n",
       "    </tr>\n",
       "  </thead>\n",
       "  <tbody>\n",
       "    <tr>\n",
       "      <th>0</th>\n",
       "      <td>tropical fruit</td>\n",
       "      <td>1808-21-7-2015</td>\n",
       "    </tr>\n",
       "    <tr>\n",
       "      <th>1</th>\n",
       "      <td>whole milk</td>\n",
       "      <td>2552-5-1-2015</td>\n",
       "    </tr>\n",
       "    <tr>\n",
       "      <th>2</th>\n",
       "      <td>pip fruit</td>\n",
       "      <td>2300-19-9-2015</td>\n",
       "    </tr>\n",
       "    <tr>\n",
       "      <th>3</th>\n",
       "      <td>other vegetables</td>\n",
       "      <td>1187-12-12-2015</td>\n",
       "    </tr>\n",
       "    <tr>\n",
       "      <th>4</th>\n",
       "      <td>whole milk</td>\n",
       "      <td>3037-1-2-2015</td>\n",
       "    </tr>\n",
       "    <tr>\n",
       "      <th>...</th>\n",
       "      <td>...</td>\n",
       "      <td>...</td>\n",
       "    </tr>\n",
       "    <tr>\n",
       "      <th>38001</th>\n",
       "      <td>sliced cheese</td>\n",
       "      <td>4471-8-10-2014</td>\n",
       "    </tr>\n",
       "    <tr>\n",
       "      <th>38002</th>\n",
       "      <td>candy</td>\n",
       "      <td>2022-23-2-2014</td>\n",
       "    </tr>\n",
       "    <tr>\n",
       "      <th>38003</th>\n",
       "      <td>cake bar</td>\n",
       "      <td>1097-16-4-2014</td>\n",
       "    </tr>\n",
       "    <tr>\n",
       "      <th>38004</th>\n",
       "      <td>fruit/vegetable juice</td>\n",
       "      <td>1510-3-12-2014</td>\n",
       "    </tr>\n",
       "    <tr>\n",
       "      <th>38005</th>\n",
       "      <td>cat food</td>\n",
       "      <td>1521-26-12-2014</td>\n",
       "    </tr>\n",
       "  </tbody>\n",
       "</table>\n",
       "<p>38006 rows × 2 columns</p>\n",
       "</div>"
      ],
      "text/plain": [
       "             itemDescription              Tid\n",
       "0             tropical fruit   1808-21-7-2015\n",
       "1                 whole milk    2552-5-1-2015\n",
       "2                  pip fruit   2300-19-9-2015\n",
       "3           other vegetables  1187-12-12-2015\n",
       "4                 whole milk    3037-1-2-2015\n",
       "...                      ...              ...\n",
       "38001          sliced cheese   4471-8-10-2014\n",
       "38002                  candy   2022-23-2-2014\n",
       "38003               cake bar   1097-16-4-2014\n",
       "38004  fruit/vegetable juice   1510-3-12-2014\n",
       "38005               cat food  1521-26-12-2014\n",
       "\n",
       "[38006 rows x 2 columns]"
      ]
     },
     "execution_count": 121,
     "metadata": {},
     "output_type": "execute_result"
    }
   ],
   "source": [
    "# filtered_data = data[(data['Month'] >= 10) & (data['Month'] <= 12)]\n",
    "# filtered_data = data[(data['Month'] >= 7) & (data['Month'] <= 12)]\n",
    "# filtered_data = data[data['Year'] == 2015]\n",
    "# filtered_data = data[data['Year'] == 2014]\n",
    "# filtered_data = data[data['Month'] == 2]\n",
    "filtered_data = data\n",
    "\n",
    "transformed_df = filtered_data.copy(deep=True)\n",
    "transformed_df['Tid'] = transformed_df['Member_number'].astype('str') + '-' +\\\n",
    "                        transformed_df['Date'].astype('str') + '-' +\\\n",
    "                        transformed_df['Month'].astype('str') + '-' +\\\n",
    "                        transformed_df['Year'].astype('str')\n",
    "transformed_df.drop(['Member_number', 'Date', 'Month', 'Year'], axis=1, inplace=True)\n",
    "transformed_df"
   ]
  },
  {
   "cell_type": "markdown",
   "metadata": {},
   "source": [
    "## Frequent Itemset Mining"
   ]
  },
  {
   "cell_type": "code",
   "execution_count": 122,
   "metadata": {},
   "outputs": [
    {
     "data": {
      "text/plain": [
       "150"
      ]
     },
     "execution_count": 122,
     "metadata": {},
     "output_type": "execute_result"
    }
   ],
   "source": [
    "minSup = .01\n",
    "minConf = .1\n",
    "\n",
    "no_transacts = len(transformed_df['Tid'].unique())\n",
    "minFreq = ceil(no_transacts * minSup)\n",
    "minFreq"
   ]
  },
  {
   "cell_type": "code",
   "execution_count": 123,
   "metadata": {},
   "outputs": [],
   "source": [
    "transactions = transformed_df.groupby('Tid')\\\n",
    "                             .aggregate(list)\n",
    "\n",
    "encoder = TransactionEncoder()\n",
    "encoder.fit(transactions['itemDescription'].values)\n",
    "array = encoder.transform(transactions['itemDescription'].values)\n",
    "fp_df = pd.DataFrame(array, columns=encoder.columns_)"
   ]
  },
  {
   "cell_type": "code",
   "execution_count": 124,
   "metadata": {},
   "outputs": [],
   "source": [
    "test_result = fpgrowth(fp_df, minSup, use_colnames=True)"
   ]
  },
  {
   "cell_type": "code",
   "execution_count": 125,
   "metadata": {},
   "outputs": [],
   "source": [
    "my_results = eclat(transformed_df, minSup, 'itemDescription')"
   ]
  },
  {
   "cell_type": "code",
   "execution_count": 126,
   "metadata": {},
   "outputs": [
    {
     "data": {
      "text/html": [
       "<div>\n",
       "<style scoped>\n",
       "    .dataframe tbody tr th:only-of-type {\n",
       "        vertical-align: middle;\n",
       "    }\n",
       "\n",
       "    .dataframe tbody tr th {\n",
       "        vertical-align: top;\n",
       "    }\n",
       "\n",
       "    .dataframe thead th {\n",
       "        text-align: right;\n",
       "    }\n",
       "</style>\n",
       "<table border=\"1\" class=\"dataframe\">\n",
       "  <thead>\n",
       "    <tr style=\"text-align: right;\">\n",
       "      <th></th>\n",
       "      <th>itemsets</th>\n",
       "      <th>frequencies</th>\n",
       "      <th>support</th>\n",
       "    </tr>\n",
       "  </thead>\n",
       "  <tbody>\n",
       "    <tr>\n",
       "      <th>68</th>\n",
       "      <td>[other vegetables, whole milk]</td>\n",
       "      <td>222</td>\n",
       "      <td>0.014837</td>\n",
       "    </tr>\n",
       "    <tr>\n",
       "      <th>67</th>\n",
       "      <td>[rolls/buns, whole milk]</td>\n",
       "      <td>209</td>\n",
       "      <td>0.013968</td>\n",
       "    </tr>\n",
       "    <tr>\n",
       "      <th>65</th>\n",
       "      <td>[soda, whole milk]</td>\n",
       "      <td>174</td>\n",
       "      <td>0.011629</td>\n",
       "    </tr>\n",
       "    <tr>\n",
       "      <th>64</th>\n",
       "      <td>[yogurt, whole milk]</td>\n",
       "      <td>167</td>\n",
       "      <td>0.011161</td>\n",
       "    </tr>\n",
       "  </tbody>\n",
       "</table>\n",
       "</div>"
      ],
      "text/plain": [
       "                          itemsets  frequencies   support\n",
       "68  [other vegetables, whole milk]          222  0.014837\n",
       "67        [rolls/buns, whole milk]          209  0.013968\n",
       "65              [soda, whole milk]          174  0.011629\n",
       "64            [yogurt, whole milk]          167  0.011161"
      ]
     },
     "execution_count": 126,
     "metadata": {},
     "output_type": "execute_result"
    }
   ],
   "source": [
    "sorted_results = my_results.sort_values('frequencies')\n",
    "two_set = sorted_results[sorted_results['itemsets'].apply(len) >= 2]\n",
    "two_set.iloc[:-5:-1]"
   ]
  },
  {
   "cell_type": "code",
   "execution_count": 127,
   "metadata": {},
   "outputs": [
    {
     "data": {
      "text/html": [
       "<div>\n",
       "<style scoped>\n",
       "    .dataframe tbody tr th:only-of-type {\n",
       "        vertical-align: middle;\n",
       "    }\n",
       "\n",
       "    .dataframe tbody tr th {\n",
       "        vertical-align: top;\n",
       "    }\n",
       "\n",
       "    .dataframe thead th {\n",
       "        text-align: right;\n",
       "    }\n",
       "</style>\n",
       "<table border=\"1\" class=\"dataframe\">\n",
       "  <thead>\n",
       "    <tr style=\"text-align: right;\">\n",
       "      <th></th>\n",
       "      <th>support</th>\n",
       "      <th>itemsets</th>\n",
       "    </tr>\n",
       "  </thead>\n",
       "  <tbody>\n",
       "    <tr>\n",
       "      <th>68</th>\n",
       "      <td>0.014837</td>\n",
       "      <td>(whole milk, other vegetables)</td>\n",
       "    </tr>\n",
       "    <tr>\n",
       "      <th>66</th>\n",
       "      <td>0.013968</td>\n",
       "      <td>(whole milk, rolls/buns)</td>\n",
       "    </tr>\n",
       "    <tr>\n",
       "      <th>65</th>\n",
       "      <td>0.011629</td>\n",
       "      <td>(whole milk, soda)</td>\n",
       "    </tr>\n",
       "    <tr>\n",
       "      <th>64</th>\n",
       "      <td>0.011161</td>\n",
       "      <td>(yogurt, whole milk)</td>\n",
       "    </tr>\n",
       "  </tbody>\n",
       "</table>\n",
       "</div>"
      ],
      "text/plain": [
       "     support                        itemsets\n",
       "68  0.014837  (whole milk, other vegetables)\n",
       "66  0.013968        (whole milk, rolls/buns)\n",
       "65  0.011629              (whole milk, soda)\n",
       "64  0.011161            (yogurt, whole milk)"
      ]
     },
     "execution_count": 127,
     "metadata": {},
     "output_type": "execute_result"
    }
   ],
   "source": [
    "sorted_test = test_result.sort_values('support')\n",
    "sorted_test[sorted_test['itemsets'].apply(len) >= 2].iloc[:-5:-1]"
   ]
  },
  {
   "cell_type": "markdown",
   "metadata": {},
   "source": [
    "## Association Rules Mining"
   ]
  },
  {
   "cell_type": "code",
   "execution_count": 131,
   "metadata": {},
   "outputs": [
    {
     "data": {
      "text/html": [
       "<div>\n",
       "<style scoped>\n",
       "    .dataframe tbody tr th:only-of-type {\n",
       "        vertical-align: middle;\n",
       "    }\n",
       "\n",
       "    .dataframe tbody tr th {\n",
       "        vertical-align: top;\n",
       "    }\n",
       "\n",
       "    .dataframe thead th {\n",
       "        text-align: right;\n",
       "    }\n",
       "</style>\n",
       "<table border=\"1\" class=\"dataframe\">\n",
       "  <thead>\n",
       "    <tr style=\"text-align: right;\">\n",
       "      <th></th>\n",
       "      <th>rule</th>\n",
       "      <th>frequencies</th>\n",
       "      <th>support</th>\n",
       "      <th>confidence</th>\n",
       "      <th>lift</th>\n",
       "    </tr>\n",
       "  </thead>\n",
       "  <tbody>\n",
       "    <tr>\n",
       "      <th>0</th>\n",
       "      <td>((rolls/buns,), (other vegetables,))</td>\n",
       "      <td>158</td>\n",
       "      <td>0.010559</td>\n",
       "      <td>0.095990</td>\n",
       "      <td>0.786154</td>\n",
       "    </tr>\n",
       "    <tr>\n",
       "      <th>1</th>\n",
       "      <td>((other vegetables,), (rolls/buns,))</td>\n",
       "      <td>158</td>\n",
       "      <td>0.010559</td>\n",
       "      <td>0.086481</td>\n",
       "      <td>0.786154</td>\n",
       "    </tr>\n",
       "    <tr>\n",
       "      <th>2</th>\n",
       "      <td>((yogurt,), (whole milk,))</td>\n",
       "      <td>167</td>\n",
       "      <td>0.011161</td>\n",
       "      <td>0.129961</td>\n",
       "      <td>0.822940</td>\n",
       "    </tr>\n",
       "    <tr>\n",
       "      <th>3</th>\n",
       "      <td>((whole milk,), (yogurt,))</td>\n",
       "      <td>167</td>\n",
       "      <td>0.011161</td>\n",
       "      <td>0.070673</td>\n",
       "      <td>0.822940</td>\n",
       "    </tr>\n",
       "    <tr>\n",
       "      <th>4</th>\n",
       "      <td>((soda,), (whole milk,))</td>\n",
       "      <td>174</td>\n",
       "      <td>0.011629</td>\n",
       "      <td>0.119752</td>\n",
       "      <td>0.758296</td>\n",
       "    </tr>\n",
       "    <tr>\n",
       "      <th>5</th>\n",
       "      <td>((whole milk,), (soda,))</td>\n",
       "      <td>174</td>\n",
       "      <td>0.011629</td>\n",
       "      <td>0.073635</td>\n",
       "      <td>0.758296</td>\n",
       "    </tr>\n",
       "    <tr>\n",
       "      <th>6</th>\n",
       "      <td>((rolls/buns,), (whole milk,))</td>\n",
       "      <td>209</td>\n",
       "      <td>0.013968</td>\n",
       "      <td>0.126974</td>\n",
       "      <td>0.804028</td>\n",
       "    </tr>\n",
       "    <tr>\n",
       "      <th>7</th>\n",
       "      <td>((whole milk,), (rolls/buns,))</td>\n",
       "      <td>209</td>\n",
       "      <td>0.013968</td>\n",
       "      <td>0.088447</td>\n",
       "      <td>0.804028</td>\n",
       "    </tr>\n",
       "    <tr>\n",
       "      <th>8</th>\n",
       "      <td>((other vegetables,), (whole milk,))</td>\n",
       "      <td>222</td>\n",
       "      <td>0.014837</td>\n",
       "      <td>0.121511</td>\n",
       "      <td>0.769430</td>\n",
       "    </tr>\n",
       "    <tr>\n",
       "      <th>9</th>\n",
       "      <td>((whole milk,), (other vegetables,))</td>\n",
       "      <td>222</td>\n",
       "      <td>0.014837</td>\n",
       "      <td>0.093948</td>\n",
       "      <td>0.769430</td>\n",
       "    </tr>\n",
       "  </tbody>\n",
       "</table>\n",
       "</div>"
      ],
      "text/plain": [
       "                                   rule  frequencies   support  confidence  \\\n",
       "0  ((rolls/buns,), (other vegetables,))          158  0.010559    0.095990   \n",
       "1  ((other vegetables,), (rolls/buns,))          158  0.010559    0.086481   \n",
       "2            ((yogurt,), (whole milk,))          167  0.011161    0.129961   \n",
       "3            ((whole milk,), (yogurt,))          167  0.011161    0.070673   \n",
       "4              ((soda,), (whole milk,))          174  0.011629    0.119752   \n",
       "5              ((whole milk,), (soda,))          174  0.011629    0.073635   \n",
       "6        ((rolls/buns,), (whole milk,))          209  0.013968    0.126974   \n",
       "7        ((whole milk,), (rolls/buns,))          209  0.013968    0.088447   \n",
       "8  ((other vegetables,), (whole milk,))          222  0.014837    0.121511   \n",
       "9  ((whole milk,), (other vegetables,))          222  0.014837    0.093948   \n",
       "\n",
       "       lift  \n",
       "0  0.786154  \n",
       "1  0.786154  \n",
       "2  0.822940  \n",
       "3  0.822940  \n",
       "4  0.758296  \n",
       "5  0.758296  \n",
       "6  0.804028  \n",
       "7  0.804028  \n",
       "8  0.769430  \n",
       "9  0.769430  "
      ]
     },
     "execution_count": 131,
     "metadata": {},
     "output_type": "execute_result"
    }
   ],
   "source": [
    "rules = find_conf(two_set['itemsets'].values, sorted_results)\n",
    "rules[rules['lift'] >= 1]\n",
    "rules"
   ]
  }
 ],
 "metadata": {
  "kernelspec": {
   "display_name": ".DM_env",
   "language": "python",
   "name": "python3"
  },
  "language_info": {
   "codemirror_mode": {
    "name": "ipython",
    "version": 3
   },
   "file_extension": ".py",
   "mimetype": "text/x-python",
   "name": "python",
   "nbconvert_exporter": "python",
   "pygments_lexer": "ipython3",
   "version": "3.12.1"
  }
 },
 "nbformat": 4,
 "nbformat_minor": 2
}
