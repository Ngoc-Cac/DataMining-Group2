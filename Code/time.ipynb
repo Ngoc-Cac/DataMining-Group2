{
 "cells": [
  {
   "cell_type": "code",
   "execution_count": 1,
   "metadata": {},
   "outputs": [],
   "source": [
    "import pandas as pd\n",
    "\n",
    "from time import perf_counter\n",
    "from numpy import mean\n",
    "\n",
    "from mlxtend.frequent_patterns import fpgrowth, apriori\n",
    "from mlxtend.preprocessing import TransactionEncoder\n",
    "\n",
    "from eclat_algo import eclat\n",
    "\n",
    "import os.path as osp"
   ]
  },
  {
   "cell_type": "code",
   "execution_count": 2,
   "metadata": {},
   "outputs": [
    {
     "data": {
      "text/html": [
       "<div>\n",
       "<style scoped>\n",
       "    .dataframe tbody tr th:only-of-type {\n",
       "        vertical-align: middle;\n",
       "    }\n",
       "\n",
       "    .dataframe tbody tr th {\n",
       "        vertical-align: top;\n",
       "    }\n",
       "\n",
       "    .dataframe thead th {\n",
       "        text-align: right;\n",
       "    }\n",
       "</style>\n",
       "<table border=\"1\" class=\"dataframe\">\n",
       "  <thead>\n",
       "    <tr style=\"text-align: right;\">\n",
       "      <th></th>\n",
       "      <th>itemDescription</th>\n",
       "      <th>Tid</th>\n",
       "    </tr>\n",
       "  </thead>\n",
       "  <tbody>\n",
       "    <tr>\n",
       "      <th>0</th>\n",
       "      <td>tropical fruit</td>\n",
       "      <td>1808-21-7-2015</td>\n",
       "    </tr>\n",
       "    <tr>\n",
       "      <th>1</th>\n",
       "      <td>whole milk</td>\n",
       "      <td>2552-5-1-2015</td>\n",
       "    </tr>\n",
       "    <tr>\n",
       "      <th>2</th>\n",
       "      <td>pip fruit</td>\n",
       "      <td>2300-19-9-2015</td>\n",
       "    </tr>\n",
       "    <tr>\n",
       "      <th>3</th>\n",
       "      <td>other vegetables</td>\n",
       "      <td>1187-12-12-2015</td>\n",
       "    </tr>\n",
       "    <tr>\n",
       "      <th>4</th>\n",
       "      <td>whole milk</td>\n",
       "      <td>3037-1-2-2015</td>\n",
       "    </tr>\n",
       "    <tr>\n",
       "      <th>...</th>\n",
       "      <td>...</td>\n",
       "      <td>...</td>\n",
       "    </tr>\n",
       "    <tr>\n",
       "      <th>38001</th>\n",
       "      <td>sliced cheese</td>\n",
       "      <td>4471-8-10-2014</td>\n",
       "    </tr>\n",
       "    <tr>\n",
       "      <th>38002</th>\n",
       "      <td>candy</td>\n",
       "      <td>2022-23-2-2014</td>\n",
       "    </tr>\n",
       "    <tr>\n",
       "      <th>38003</th>\n",
       "      <td>cake bar</td>\n",
       "      <td>1097-16-4-2014</td>\n",
       "    </tr>\n",
       "    <tr>\n",
       "      <th>38004</th>\n",
       "      <td>fruit/vegetable juice</td>\n",
       "      <td>1510-3-12-2014</td>\n",
       "    </tr>\n",
       "    <tr>\n",
       "      <th>38005</th>\n",
       "      <td>cat food</td>\n",
       "      <td>1521-26-12-2014</td>\n",
       "    </tr>\n",
       "  </tbody>\n",
       "</table>\n",
       "<p>38006 rows × 2 columns</p>\n",
       "</div>"
      ],
      "text/plain": [
       "             itemDescription              Tid\n",
       "0             tropical fruit   1808-21-7-2015\n",
       "1                 whole milk    2552-5-1-2015\n",
       "2                  pip fruit   2300-19-9-2015\n",
       "3           other vegetables  1187-12-12-2015\n",
       "4                 whole milk    3037-1-2-2015\n",
       "...                      ...              ...\n",
       "38001          sliced cheese   4471-8-10-2014\n",
       "38002                  candy   2022-23-2-2014\n",
       "38003               cake bar   1097-16-4-2014\n",
       "38004  fruit/vegetable juice   1510-3-12-2014\n",
       "38005               cat food  1521-26-12-2014\n",
       "\n",
       "[38006 rows x 2 columns]"
      ]
     },
     "execution_count": 2,
     "metadata": {},
     "output_type": "execute_result"
    }
   ],
   "source": [
    "data = pd.read_csv(osp.join('..', 'Data', 'processed.csv'))\n",
    "\n",
    "transformed_df = data.copy(deep=True)\n",
    "transformed_df['Tid'] = transformed_df['Member_number'].astype('str') + '-' +\\\n",
    "                        transformed_df['Date'].astype('str') + '-' +\\\n",
    "                        transformed_df['Month'].astype('str') + '-' +\\\n",
    "                        transformed_df['Year'].astype('str')\n",
    "transformed_df.drop(['Member_number', 'Date', 'Month', 'Year'], axis=1, inplace=True)\n",
    "transformed_df"
   ]
  },
  {
   "cell_type": "code",
   "execution_count": 3,
   "metadata": {},
   "outputs": [],
   "source": [
    "transactions = transformed_df.groupby('Tid')\\\n",
    "                             .aggregate(list)\n",
    "\n",
    "encoder = TransactionEncoder()\n",
    "encoder.fit(transactions['itemDescription'].values)\n",
    "array = encoder.transform(transactions['itemDescription'].values)\n",
    "ml_df = pd.DataFrame(array, columns=encoder.columns_)"
   ]
  },
  {
   "cell_type": "code",
   "execution_count": null,
   "metadata": {},
   "outputs": [],
   "source": [
    "no_run = 100\n",
    "minSups = [i / 1000 for i in range(5, 10)].extend(i / 100 for i in range(5, 10)[])\n",
    "times = {'apriori': [],\n",
    "         'fp_growth': [],\n",
    "         'eclat': []}\n",
    "\n",
    "for minSup in minSups:\n",
    "    results = {'apri': [],\n",
    "               'fp': [],\n",
    "               'eclat': []}\n",
    "    for _ in range(no_run):\n",
    "        start = perf_counter()\n",
    "        apriori(ml_df, minSup, use_colnames = True)\n",
    "        end = perf_counter()\n",
    "        results['apri'].append(end - start)\n",
    "\n",
    "        start = perf_counter()\n",
    "        fpgrowth(ml_df, minSup, use_colnames = True)\n",
    "        end = perf_counter()\n",
    "        results['fp'].append(end - start)\n",
    "        \n",
    "        start = perf_counter()\n",
    "        eclat(transformed_df, minSup, 'itemDescription')\n",
    "        end = perf_counter()\n",
    "        results['eclat'].append(end - start)\n",
    "    \n",
    "    times['apriori'].append(mean(results['apri']))\n",
    "    times['fp_growth'].append(mean(results['fp']))\n",
    "    times['eclat'].append(mean(results['eclat']))"
   ]
  },
  {
   "cell_type": "code",
   "execution_count": 5,
   "metadata": {},
   "outputs": [],
   "source": [
    "df = pd.concat([pd.DataFrame(times),\n",
    "                pd.DataFrame(minSups, columns=['minSup'])], axis=1)\n",
    "df = df.set_index('minSup')\n",
    "df.columns = ['Apriorpri (mlxtend)', 'FP-Growth (mlxtend)', 'ECLAT']\n",
    "df.to_csv(osp.join('..', 'Output', 'timing.csv'))"
   ]
  },
  {
   "cell_type": "code",
   "execution_count": 7,
   "metadata": {},
   "outputs": [],
   "source": [
    "import matplotlib.pyplot as plt"
   ]
  },
  {
   "cell_type": "code",
   "execution_count": 12,
   "metadata": {},
   "outputs": [
    {
     "data": {
      "text/plain": [
       "<matplotlib.legend.Legend at 0x2a9a3e98e90>"
      ]
     },
     "execution_count": 12,
     "metadata": {},
     "output_type": "execute_result"
    },
    {
     "data": {
      "image/png": "[encoded data removed]",
      "text/plain": [
       "<Figure size 640x480 with 1 Axes>"
      ]
     },
     "metadata": {},
     "output_type": "display_data"
    }
   ],
   "source": [
    "ax = plt.gca()\n",
    "df = pd.read_csv(osp.join('..', 'Output', 'timing.csv')).set_index('minSup')\n",
    "df.columns = ['Apriorpri (mlxtend)', 'FP-Growth (mlxtend)', 'ECLAT']\n",
    "df.plot(ax=ax)\n",
    "ax.set_xticks([i / 100 for i in range(10)])\n",
    "ax.set_ylabel('Average Time (per 100 runs) (seconds)')\n",
    "ax.legend(title='Algorithms')"
   ]
  }
 ],
 "metadata": {
  "kernelspec": {
   "display_name": ".DM_env",
   "language": "python",
   "name": "python3"
  },
  "language_info": {
   "codemirror_mode": {
    "name": "ipython",
    "version": 3
   },
   "file_extension": ".py",
   "mimetype": "text/x-python",
   "name": "python",
   "nbconvert_exporter": "python",
   "pygments_lexer": "ipython3",
   "version": "3.12.1"
  }
 },
 "nbformat": 4,
 "nbformat_minor": 2
}
