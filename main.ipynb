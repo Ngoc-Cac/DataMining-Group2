{
 "cells": [
  {
   "cell_type": "code",
   "execution_count": 1,
   "metadata": {},
   "outputs": [],
   "source": [
    "import math\n",
    "\n",
    "import pandas as pd"
   ]
  },
  {
   "cell_type": "code",
   "execution_count": 2,
   "metadata": {},
   "outputs": [
    {
     "name": "stdout",
     "output_type": "stream",
     "text": [
      "<class 'pandas.core.frame.DataFrame'>\n",
      "RangeIndex: 38765 entries, 0 to 38764\n",
      "Data columns (total 3 columns):\n",
      " #   Column           Non-Null Count  Dtype \n",
      "---  ------           --------------  ----- \n",
      " 0   Member_number    38765 non-null  int64 \n",
      " 1   Date             38765 non-null  object\n",
      " 2   itemDescription  38765 non-null  object\n",
      "dtypes: int64(1), object(2)\n",
      "memory usage: 908.7+ KB\n"
     ]
    }
   ],
   "source": [
    "data = pd.read_csv(r'.\\Groceries 1.csv')\n",
    "# data.drop_duplicates(inplace=True)\n",
    "data.info()"
   ]
  },
  {
   "cell_type": "code",
   "execution_count": 30,
   "metadata": {},
   "outputs": [
    {
     "data": {
      "text/html": [
       "<div>\n",
       "<style scoped>\n",
       "    .dataframe tbody tr th:only-of-type {\n",
       "        vertical-align: middle;\n",
       "    }\n",
       "\n",
       "    .dataframe tbody tr th {\n",
       "        vertical-align: top;\n",
       "    }\n",
       "\n",
       "    .dataframe thead th {\n",
       "        text-align: right;\n",
       "    }\n",
       "</style>\n",
       "<table border=\"1\" class=\"dataframe\">\n",
       "  <thead>\n",
       "    <tr style=\"text-align: right;\">\n",
       "      <th></th>\n",
       "      <th>itemDescription</th>\n",
       "      <th>Tid</th>\n",
       "    </tr>\n",
       "  </thead>\n",
       "  <tbody>\n",
       "    <tr>\n",
       "      <th>0</th>\n",
       "      <td>{semi-finished bread, whole milk, yogurt, saus...</td>\n",
       "      <td>1000-15-03-2015</td>\n",
       "    </tr>\n",
       "    <tr>\n",
       "      <th>1</th>\n",
       "      <td>{pastry, whole milk, salty snack}</td>\n",
       "      <td>1000-24-06-2014</td>\n",
       "    </tr>\n",
       "    <tr>\n",
       "      <th>2</th>\n",
       "      <td>{canned beer, misc. beverages}</td>\n",
       "      <td>1000-24-07-2015</td>\n",
       "    </tr>\n",
       "    <tr>\n",
       "      <th>3</th>\n",
       "      <td>{hygiene articles, sausage}</td>\n",
       "      <td>1000-25-11-2015</td>\n",
       "    </tr>\n",
       "    <tr>\n",
       "      <th>4</th>\n",
       "      <td>{soda, pickled vegetables}</td>\n",
       "      <td>1000-27-05-2015</td>\n",
       "    </tr>\n",
       "    <tr>\n",
       "      <th>...</th>\n",
       "      <td>...</td>\n",
       "      <td>...</td>\n",
       "    </tr>\n",
       "    <tr>\n",
       "      <th>14958</th>\n",
       "      <td>{other vegetables, yogurt, berries, kitchen to...</td>\n",
       "      <td>4999-24-01-2015</td>\n",
       "    </tr>\n",
       "    <tr>\n",
       "      <th>14959</th>\n",
       "      <td>{bottled water, herbs}</td>\n",
       "      <td>4999-26-12-2015</td>\n",
       "    </tr>\n",
       "    <tr>\n",
       "      <th>14960</th>\n",
       "      <td>{fruit/vegetable juice, onions}</td>\n",
       "      <td>5000-09-03-2014</td>\n",
       "    </tr>\n",
       "    <tr>\n",
       "      <th>14961</th>\n",
       "      <td>{semi-finished bread, soda, root vegetables}</td>\n",
       "      <td>5000-10-02-2015</td>\n",
       "    </tr>\n",
       "    <tr>\n",
       "      <th>14962</th>\n",
       "      <td>{other vegetables, bottled beer}</td>\n",
       "      <td>5000-16-11-2014</td>\n",
       "    </tr>\n",
       "  </tbody>\n",
       "</table>\n",
       "<p>14963 rows × 2 columns</p>\n",
       "</div>"
      ],
      "text/plain": [
       "                                         itemDescription              Tid\n",
       "0      {semi-finished bread, whole milk, yogurt, saus...  1000-15-03-2015\n",
       "1                      {pastry, whole milk, salty snack}  1000-24-06-2014\n",
       "2                         {canned beer, misc. beverages}  1000-24-07-2015\n",
       "3                            {hygiene articles, sausage}  1000-25-11-2015\n",
       "4                             {soda, pickled vegetables}  1000-27-05-2015\n",
       "...                                                  ...              ...\n",
       "14958  {other vegetables, yogurt, berries, kitchen to...  4999-24-01-2015\n",
       "14959                             {bottled water, herbs}  4999-26-12-2015\n",
       "14960                    {fruit/vegetable juice, onions}  5000-09-03-2014\n",
       "14961       {semi-finished bread, soda, root vegetables}  5000-10-02-2015\n",
       "14962                   {other vegetables, bottled beer}  5000-16-11-2014\n",
       "\n",
       "[14963 rows x 2 columns]"
      ]
     },
     "execution_count": 30,
     "metadata": {},
     "output_type": "execute_result"
    }
   ],
   "source": [
    "transactions = data.groupby(['Member_number', 'Date'])\\\n",
    "                   .aggregate(set)\\\n",
    "                   .reset_index()\n",
    "transactions['Tid'] = transactions['Member_number'].astype('str') + '-' + transactions['Date']\n",
    "transactions.drop(['Member_number', 'Date'], axis=1, inplace=True)\n",
    "transactions"
   ]
  },
  {
   "cell_type": "code",
   "execution_count": null,
   "metadata": {},
   "outputs": [
    {
     "data": {
      "text/plain": [
       "167"
      ]
     },
     "execution_count": 40,
     "metadata": {},
     "output_type": "execute_result"
    }
   ],
   "source": [
    "all_items = set().union(*transactions['itemDescription'])\n",
    "len(all_items)"
   ]
  },
  {
   "cell_type": "code",
   "execution_count": 50,
   "metadata": {},
   "outputs": [],
   "source": [
    "vert_df = pd.DataFrame([(item, set()) for item in all_items], columns=['itemDescription', 'Tids'])\n",
    "for i, row in vert_df.iterrows():\n",
    "    item_trans = transactions[transactions['itemDescription']\\\n",
    "                              .apply(lambda x: row['itemDescription'] in x)]['Tid']\n",
    "    row['Tids'] = set(item_trans)"
   ]
  },
  {
   "cell_type": "code",
   "execution_count": 51,
   "metadata": {},
   "outputs": [
    {
     "data": {
      "text/html": [
       "<div>\n",
       "<style scoped>\n",
       "    .dataframe tbody tr th:only-of-type {\n",
       "        vertical-align: middle;\n",
       "    }\n",
       "\n",
       "    .dataframe tbody tr th {\n",
       "        vertical-align: top;\n",
       "    }\n",
       "\n",
       "    .dataframe thead th {\n",
       "        text-align: right;\n",
       "    }\n",
       "</style>\n",
       "<table border=\"1\" class=\"dataframe\">\n",
       "  <thead>\n",
       "    <tr style=\"text-align: right;\">\n",
       "      <th></th>\n",
       "      <th>itemDescription</th>\n",
       "      <th>Tids</th>\n",
       "    </tr>\n",
       "  </thead>\n",
       "  <tbody>\n",
       "    <tr>\n",
       "      <th>0</th>\n",
       "      <td>grapes</td>\n",
       "      <td>{3183-10-12-2014, 2235-10-10-2014, 3241-20-09-...</td>\n",
       "    </tr>\n",
       "    <tr>\n",
       "      <th>1</th>\n",
       "      <td>whole milk</td>\n",
       "      <td>{3140-25-09-2014, 2466-10-10-2015, 3487-25-03-...</td>\n",
       "    </tr>\n",
       "    <tr>\n",
       "      <th>2</th>\n",
       "      <td>soups</td>\n",
       "      <td>{1500-20-06-2014, 3262-08-12-2015, 2114-24-05-...</td>\n",
       "    </tr>\n",
       "    <tr>\n",
       "      <th>3</th>\n",
       "      <td>meat spreads</td>\n",
       "      <td>{1190-25-11-2014, 4637-08-12-2014, 2437-09-10-...</td>\n",
       "    </tr>\n",
       "    <tr>\n",
       "      <th>4</th>\n",
       "      <td>dish cleaner</td>\n",
       "      <td>{2235-10-10-2014, 2366-11-10-2014, 3172-01-03-...</td>\n",
       "    </tr>\n",
       "    <tr>\n",
       "      <th>...</th>\n",
       "      <td>...</td>\n",
       "      <td>...</td>\n",
       "    </tr>\n",
       "    <tr>\n",
       "      <th>162</th>\n",
       "      <td>canned vegetables</td>\n",
       "      <td>{3532-17-08-2014, 3416-15-11-2015, 1817-15-11-...</td>\n",
       "    </tr>\n",
       "    <tr>\n",
       "      <th>163</th>\n",
       "      <td>ham</td>\n",
       "      <td>{3299-09-01-2014, 2235-25-10-2015, 3462-15-11-...</td>\n",
       "    </tr>\n",
       "    <tr>\n",
       "      <th>164</th>\n",
       "      <td>toilet cleaner</td>\n",
       "      <td>{4682-21-04-2014, 3256-17-12-2014, 3948-08-04-...</td>\n",
       "    </tr>\n",
       "    <tr>\n",
       "      <th>165</th>\n",
       "      <td>fish</td>\n",
       "      <td>{1024-10-08-2015, 2157-29-10-2015, 3226-15-09-...</td>\n",
       "    </tr>\n",
       "    <tr>\n",
       "      <th>166</th>\n",
       "      <td>cat food</td>\n",
       "      <td>{2408-10-11-2014, 1206-02-01-2015, 4665-03-12-...</td>\n",
       "    </tr>\n",
       "  </tbody>\n",
       "</table>\n",
       "<p>167 rows × 2 columns</p>\n",
       "</div>"
      ],
      "text/plain": [
       "       itemDescription                                               Tids\n",
       "0               grapes  {3183-10-12-2014, 2235-10-10-2014, 3241-20-09-...\n",
       "1           whole milk  {3140-25-09-2014, 2466-10-10-2015, 3487-25-03-...\n",
       "2                soups  {1500-20-06-2014, 3262-08-12-2015, 2114-24-05-...\n",
       "3         meat spreads  {1190-25-11-2014, 4637-08-12-2014, 2437-09-10-...\n",
       "4         dish cleaner  {2235-10-10-2014, 2366-11-10-2014, 3172-01-03-...\n",
       "..                 ...                                                ...\n",
       "162  canned vegetables  {3532-17-08-2014, 3416-15-11-2015, 1817-15-11-...\n",
       "163                ham  {3299-09-01-2014, 2235-25-10-2015, 3462-15-11-...\n",
       "164     toilet cleaner  {4682-21-04-2014, 3256-17-12-2014, 3948-08-04-...\n",
       "165               fish  {1024-10-08-2015, 2157-29-10-2015, 3226-15-09-...\n",
       "166           cat food  {2408-10-11-2014, 1206-02-01-2015, 4665-03-12-...\n",
       "\n",
       "[167 rows x 2 columns]"
      ]
     },
     "execution_count": 51,
     "metadata": {},
     "output_type": "execute_result"
    }
   ],
   "source": [
    "vert_df"
   ]
  },
  {
   "cell_type": "code",
   "execution_count": null,
   "metadata": {},
   "outputs": [],
   "source": [
    "set().union()"
   ]
  },
  {
   "cell_type": "code",
   "execution_count": null,
   "metadata": {},
   "outputs": [],
   "source": [
    "from eclat_algo import eclat"
   ]
  },
  {
   "cell_type": "code",
   "execution_count": 13,
   "metadata": {},
   "outputs": [
    {
     "data": {
      "text/plain": [
       "[(['butter'], 2),\n",
       " (['eggs'], 2),\n",
       " (['bread'], 3),\n",
       " (['milk'], 3),\n",
       " (['cheese'], 4),\n",
       " (['butter', 'cheese'], 2),\n",
       " (['eggs', 'cheese'], 2),\n",
       " (['bread', 'milk'], 2),\n",
       " (['bread', 'cheese'], 2),\n",
       " (['milk', 'cheese'], 2)]"
      ]
     },
     "execution_count": 13,
     "metadata": {},
     "output_type": "execute_result"
    }
   ],
   "source": [
    "#1 \n",
    "#2 cheese butter\n",
    "#3 cheese eggs\n",
    "#4 cheese eggs butter\n",
    "#5 cheese\n",
    "test = [(1, 'bread'), (2, 'bread'), (5, 'bread'),\n",
    "        (1, 'milk'), (4, 'milk'), (5, 'milk'),\n",
    "        (2, 'cheese'), (3, 'cheese'), (4, 'cheese'), (5, 'cheese'),\n",
    "        (2, 'butter'), (4, 'butter'),\n",
    "        (3, 'eggs'), (4, 'eggs')]\n",
    "test_df = pd.DataFrame(test, columns=['index', 'item'])\n",
    "eclat(test_df, .4, 'item')"
   ]
  },
  {
   "cell_type": "code",
   "execution_count": 15,
   "metadata": {},
   "outputs": [
    {
     "data": {
      "text/plain": [
       "[(['soft cheese'], 150),\n",
       " (['processed cheese'], 152),\n",
       " (['red/blush wine'], 157),\n",
       " (['herbs'], 158),\n",
       " (['white wine'], 175),\n",
       " (['cat food'], 177),\n",
       " (['chewing gum'], 180),\n",
       " (['hygiene articles'], 205),\n",
       " (['specialty bar'], 209),\n",
       " (['sliced cheese'], 210),\n",
       " (['candy'], 215),\n",
       " (['grapes'], 216),\n",
       " (['hard cheese'], 220),\n",
       " (['oil'], 223),\n",
       " (['ice cream'], 227),\n",
       " (['misc. beverages'], 236),\n",
       " (['specialty chocolate'], 239),\n",
       " (['beverages'], 248),\n",
       " (['frozen meals'], 251),\n",
       " (['meat'], 252),\n",
       " (['ham'], 256),\n",
       " (['butter milk'], 263),\n",
       " (['sugar'], 265),\n",
       " (['long life bakery product'], 268),\n",
       " (['waffles'], 277),\n",
       " (['salty snack'], 281),\n",
       " (['onions'], 303),\n",
       " (['UHT-milk'], 320),\n",
       " (['berries'], 326),\n",
       " (['hamburger meat'], 327),\n",
       " (['napkins'], 331),\n",
       " (['chocolate'], 353),\n",
       " (['dessert'], 353),\n",
       " (['cream cheese '], 354),\n",
       " (['white bread'], 359),\n",
       " (['chicken'], 417),\n",
       " (['frozen vegetables'], 419),\n",
       " (['coffee'], 473),\n",
       " (['margarine'], 482),\n",
       " (['curd'], 504),\n",
       " (['beef'], 508),\n",
       " (['fruit/vegetable juice'], 509),\n",
       " (['butter'], 527),\n",
       " (['pork'], 555),\n",
       " (['domestic eggs'], 555),\n",
       " (['brown bread'], 563),\n",
       " (['frankfurter'], 565),\n",
       " (['newspapers'], 582),\n",
       " (['whipped/sour cream'], 654),\n",
       " (['bottled beer'], 678),\n",
       " (['canned beer'], 702),\n",
       " (['shopping bags'], 712),\n",
       " (['pip fruit'], 734),\n",
       " (['pastry'], 774),\n",
       " (['citrus fruit'], 795),\n",
       " (['sausage'], 903),\n",
       " (['bottled water'], 908),\n",
       " (['tropical fruit'], 1014),\n",
       " (['root vegetables'], 1041),\n",
       " (['yogurt'], 1285),\n",
       " (['soda'], 1453),\n",
       " (['rolls/buns'], 1646),\n",
       " (['other vegetables'], 1827),\n",
       " (['whole milk'], 2363),\n",
       " (['yogurt', 'whole milk'], 167),\n",
       " (['soda', 'whole milk'], 174),\n",
       " (['rolls/buns', 'other vegetables'], 158),\n",
       " (['rolls/buns', 'whole milk'], 209),\n",
       " (['other vegetables', 'whole milk'], 222)]"
      ]
     },
     "execution_count": 15,
     "metadata": {},
     "output_type": "execute_result"
    }
   ],
   "source": [
    "transformed_df = data.copy(deep=True)\n",
    "transformed_df['Tid'] = transformed_df['Member_number'].astype('str') + '-' + transformed_df['Date']\n",
    "transformed_df.drop(['Member_number', 'Date'], axis=1, inplace=True)\n",
    "\n",
    "eclat(transformed_df, 0.01, 'itemDescription')"
   ]
  },
  {
   "cell_type": "code",
   "execution_count": 16,
   "metadata": {},
   "outputs": [
    {
     "data": {
      "text/plain": [
       "150"
      ]
     },
     "execution_count": 16,
     "metadata": {},
     "output_type": "execute_result"
    }
   ],
   "source": [
    "sup = .01\n",
    "minFreq = math.ceil(len(transformed_df['Tid'].unique()) * sup)\n",
    "minFreq"
   ]
  },
  {
   "cell_type": "code",
   "execution_count": 111,
   "metadata": {},
   "outputs": [
    {
     "data": {
      "text/html": [
       "<div>\n",
       "<style scoped>\n",
       "    .dataframe tbody tr th:only-of-type {\n",
       "        vertical-align: middle;\n",
       "    }\n",
       "\n",
       "    .dataframe tbody tr th {\n",
       "        vertical-align: top;\n",
       "    }\n",
       "\n",
       "    .dataframe thead th {\n",
       "        text-align: right;\n",
       "    }\n",
       "</style>\n",
       "<table border=\"1\" class=\"dataframe\">\n",
       "  <thead>\n",
       "    <tr style=\"text-align: right;\">\n",
       "      <th></th>\n",
       "      <th>Member_number</th>\n",
       "      <th>Date</th>\n",
       "    </tr>\n",
       "    <tr>\n",
       "      <th>itemDescription</th>\n",
       "      <th></th>\n",
       "      <th></th>\n",
       "    </tr>\n",
       "  </thead>\n",
       "  <tbody>\n",
       "    <tr>\n",
       "      <th>UHT-milk</th>\n",
       "      <td>320</td>\n",
       "      <td>320</td>\n",
       "    </tr>\n",
       "    <tr>\n",
       "      <th>beef</th>\n",
       "      <td>508</td>\n",
       "      <td>508</td>\n",
       "    </tr>\n",
       "    <tr>\n",
       "      <th>berries</th>\n",
       "      <td>326</td>\n",
       "      <td>326</td>\n",
       "    </tr>\n",
       "    <tr>\n",
       "      <th>beverages</th>\n",
       "      <td>248</td>\n",
       "      <td>248</td>\n",
       "    </tr>\n",
       "    <tr>\n",
       "      <th>bottled beer</th>\n",
       "      <td>678</td>\n",
       "      <td>678</td>\n",
       "    </tr>\n",
       "    <tr>\n",
       "      <th>...</th>\n",
       "      <td>...</td>\n",
       "      <td>...</td>\n",
       "    </tr>\n",
       "    <tr>\n",
       "      <th>whipped/sour cream</th>\n",
       "      <td>654</td>\n",
       "      <td>654</td>\n",
       "    </tr>\n",
       "    <tr>\n",
       "      <th>white bread</th>\n",
       "      <td>359</td>\n",
       "      <td>359</td>\n",
       "    </tr>\n",
       "    <tr>\n",
       "      <th>white wine</th>\n",
       "      <td>175</td>\n",
       "      <td>175</td>\n",
       "    </tr>\n",
       "    <tr>\n",
       "      <th>whole milk</th>\n",
       "      <td>2363</td>\n",
       "      <td>2363</td>\n",
       "    </tr>\n",
       "    <tr>\n",
       "      <th>yogurt</th>\n",
       "      <td>1285</td>\n",
       "      <td>1285</td>\n",
       "    </tr>\n",
       "  </tbody>\n",
       "</table>\n",
       "<p>64 rows × 2 columns</p>\n",
       "</div>"
      ],
      "text/plain": [
       "                    Member_number  Date\n",
       "itemDescription                        \n",
       "UHT-milk                      320   320\n",
       "beef                          508   508\n",
       "berries                       326   326\n",
       "beverages                     248   248\n",
       "bottled beer                  678   678\n",
       "...                           ...   ...\n",
       "whipped/sour cream            654   654\n",
       "white bread                   359   359\n",
       "white wine                    175   175\n",
       "whole milk                   2363  2363\n",
       "yogurt                       1285  1285\n",
       "\n",
       "[64 rows x 2 columns]"
      ]
     },
     "execution_count": 111,
     "metadata": {},
     "output_type": "execute_result"
    }
   ],
   "source": [
    "counts = data.groupby('itemDescription').count()\n",
    "counts[counts['Member_number'] >= minFreq]"
   ]
  }
 ],
 "metadata": {
  "kernelspec": {
   "display_name": "Python 3",
   "language": "python",
   "name": "python3"
  },
  "language_info": {
   "codemirror_mode": {
    "name": "ipython",
    "version": 3
   },
   "file_extension": ".py",
   "mimetype": "text/x-python",
   "name": "python",
   "nbconvert_exporter": "python",
   "pygments_lexer": "ipython3",
   "version": "3.12.1"
  }
 },
 "nbformat": 4,
 "nbformat_minor": 2
}
