{
 "cells": [
  {
   "cell_type": "code",
   "execution_count": 2,
   "metadata": {},
   "outputs": [],
   "source": [
    "import math\n",
    "\n",
    "import pandas as pd"
   ]
  },
  {
   "cell_type": "code",
   "execution_count": 29,
   "metadata": {},
   "outputs": [
    {
     "name": "stdout",
     "output_type": "stream",
     "text": [
      "<class 'pandas.core.frame.DataFrame'>\n",
      "RangeIndex: 38765 entries, 0 to 38764\n",
      "Data columns (total 3 columns):\n",
      " #   Column           Non-Null Count  Dtype \n",
      "---  ------           --------------  ----- \n",
      " 0   Member_number    38765 non-null  int64 \n",
      " 1   Date             38765 non-null  object\n",
      " 2   itemDescription  38765 non-null  object\n",
      "dtypes: int64(1), object(2)\n",
      "memory usage: 908.7+ KB\n"
     ]
    }
   ],
   "source": [
    "data = pd.read_csv(r'.\\Groceries 1.csv')\n",
    "# data.drop_duplicates(inplace=True)\n",
    "data.info()"
   ]
  },
  {
   "cell_type": "code",
   "execution_count": 30,
   "metadata": {},
   "outputs": [
    {
     "data": {
      "text/html": [
       "<div>\n",
       "<style scoped>\n",
       "    .dataframe tbody tr th:only-of-type {\n",
       "        vertical-align: middle;\n",
       "    }\n",
       "\n",
       "    .dataframe tbody tr th {\n",
       "        vertical-align: top;\n",
       "    }\n",
       "\n",
       "    .dataframe thead th {\n",
       "        text-align: right;\n",
       "    }\n",
       "</style>\n",
       "<table border=\"1\" class=\"dataframe\">\n",
       "  <thead>\n",
       "    <tr style=\"text-align: right;\">\n",
       "      <th></th>\n",
       "      <th>itemDescription</th>\n",
       "      <th>Tid</th>\n",
       "    </tr>\n",
       "  </thead>\n",
       "  <tbody>\n",
       "    <tr>\n",
       "      <th>0</th>\n",
       "      <td>{semi-finished bread, whole milk, yogurt, saus...</td>\n",
       "      <td>1000-15-03-2015</td>\n",
       "    </tr>\n",
       "    <tr>\n",
       "      <th>1</th>\n",
       "      <td>{pastry, whole milk, salty snack}</td>\n",
       "      <td>1000-24-06-2014</td>\n",
       "    </tr>\n",
       "    <tr>\n",
       "      <th>2</th>\n",
       "      <td>{canned beer, misc. beverages}</td>\n",
       "      <td>1000-24-07-2015</td>\n",
       "    </tr>\n",
       "    <tr>\n",
       "      <th>3</th>\n",
       "      <td>{hygiene articles, sausage}</td>\n",
       "      <td>1000-25-11-2015</td>\n",
       "    </tr>\n",
       "    <tr>\n",
       "      <th>4</th>\n",
       "      <td>{soda, pickled vegetables}</td>\n",
       "      <td>1000-27-05-2015</td>\n",
       "    </tr>\n",
       "    <tr>\n",
       "      <th>...</th>\n",
       "      <td>...</td>\n",
       "      <td>...</td>\n",
       "    </tr>\n",
       "    <tr>\n",
       "      <th>14958</th>\n",
       "      <td>{other vegetables, yogurt, berries, kitchen to...</td>\n",
       "      <td>4999-24-01-2015</td>\n",
       "    </tr>\n",
       "    <tr>\n",
       "      <th>14959</th>\n",
       "      <td>{bottled water, herbs}</td>\n",
       "      <td>4999-26-12-2015</td>\n",
       "    </tr>\n",
       "    <tr>\n",
       "      <th>14960</th>\n",
       "      <td>{fruit/vegetable juice, onions}</td>\n",
       "      <td>5000-09-03-2014</td>\n",
       "    </tr>\n",
       "    <tr>\n",
       "      <th>14961</th>\n",
       "      <td>{semi-finished bread, soda, root vegetables}</td>\n",
       "      <td>5000-10-02-2015</td>\n",
       "    </tr>\n",
       "    <tr>\n",
       "      <th>14962</th>\n",
       "      <td>{other vegetables, bottled beer}</td>\n",
       "      <td>5000-16-11-2014</td>\n",
       "    </tr>\n",
       "  </tbody>\n",
       "</table>\n",
       "<p>14963 rows × 2 columns</p>\n",
       "</div>"
      ],
      "text/plain": [
       "                                         itemDescription              Tid\n",
       "0      {semi-finished bread, whole milk, yogurt, saus...  1000-15-03-2015\n",
       "1                      {pastry, whole milk, salty snack}  1000-24-06-2014\n",
       "2                         {canned beer, misc. beverages}  1000-24-07-2015\n",
       "3                            {hygiene articles, sausage}  1000-25-11-2015\n",
       "4                             {soda, pickled vegetables}  1000-27-05-2015\n",
       "...                                                  ...              ...\n",
       "14958  {other vegetables, yogurt, berries, kitchen to...  4999-24-01-2015\n",
       "14959                             {bottled water, herbs}  4999-26-12-2015\n",
       "14960                    {fruit/vegetable juice, onions}  5000-09-03-2014\n",
       "14961       {semi-finished bread, soda, root vegetables}  5000-10-02-2015\n",
       "14962                   {other vegetables, bottled beer}  5000-16-11-2014\n",
       "\n",
       "[14963 rows x 2 columns]"
      ]
     },
     "execution_count": 30,
     "metadata": {},
     "output_type": "execute_result"
    }
   ],
   "source": [
    "transactions = data.groupby(['Member_number', 'Date'])\\\n",
    "                   .aggregate(set)\\\n",
    "                   .reset_index()\n",
    "transactions['Tid'] = transactions['Member_number'].astype('str') + '-' + transactions['Date']\n",
    "transactions.drop(['Member_number', 'Date'], axis=1, inplace=True)\n",
    "transactions"
   ]
  },
  {
   "cell_type": "code",
   "execution_count": null,
   "metadata": {},
   "outputs": [],
   "source": [
    "from eclat_algo import eclat"
   ]
  },
  {
   "cell_type": "code",
   "execution_count": null,
   "metadata": {},
   "outputs": [
    {
     "data": {
      "text/plain": [
       "[(['butter'], 2),\n",
       " (['eggs'], 2),\n",
       " (['bread'], 3),\n",
       " (['milk'], 3),\n",
       " (['cheese'], 4),\n",
       " (['butter', 'cheese'], 2),\n",
       " (['eggs', 'cheese'], 2),\n",
       " (['bread', 'milk'], 2),\n",
       " (['bread', 'cheese'], 2),\n",
       " (['milk', 'cheese'], 2)]"
      ]
     },
     "execution_count": 24,
     "metadata": {},
     "output_type": "execute_result"
    }
   ],
   "source": [
    "#1 \n",
    "#2 cheese butter\n",
    "#3 cheese eggs\n",
    "#4 cheese eggs butter\n",
    "#5 cheese\n",
    "test = [(1, 'bread'), (2, 'bread'), (5, 'bread'),\n",
    "        (1, 'milk'), (4, 'milk'), (5, 'milk'),\n",
    "        (2, 'cheese'), (3, 'cheese'), (4, 'cheese'), (5, 'cheese'),\n",
    "        (2, 'butter'), (4, 'butter'),\n",
    "        (3, 'eggs'), (4, 'eggs')]\n",
    "test_df = pd.DataFrame(test, columns=['index', 'item'])\n",
    "eclat(test_df, .4, 'item')"
   ]
  },
  {
   "cell_type": "code",
   "execution_count": 114,
   "metadata": {},
   "outputs": [
    {
     "data": {
      "text/plain": [
       "75"
      ]
     },
     "execution_count": 114,
     "metadata": {},
     "output_type": "execute_result"
    }
   ],
   "source": [
    "sup = .005\n",
    "minFreq = math.ceil(len(transactions) * sup)\n",
    "minFreq"
   ]
  },
  {
   "cell_type": "code",
   "execution_count": 111,
   "metadata": {},
   "outputs": [
    {
     "data": {
      "text/html": [
       "<div>\n",
       "<style scoped>\n",
       "    .dataframe tbody tr th:only-of-type {\n",
       "        vertical-align: middle;\n",
       "    }\n",
       "\n",
       "    .dataframe tbody tr th {\n",
       "        vertical-align: top;\n",
       "    }\n",
       "\n",
       "    .dataframe thead th {\n",
       "        text-align: right;\n",
       "    }\n",
       "</style>\n",
       "<table border=\"1\" class=\"dataframe\">\n",
       "  <thead>\n",
       "    <tr style=\"text-align: right;\">\n",
       "      <th></th>\n",
       "      <th>Member_number</th>\n",
       "      <th>Date</th>\n",
       "    </tr>\n",
       "    <tr>\n",
       "      <th>itemDescription</th>\n",
       "      <th></th>\n",
       "      <th></th>\n",
       "    </tr>\n",
       "  </thead>\n",
       "  <tbody>\n",
       "    <tr>\n",
       "      <th>UHT-milk</th>\n",
       "      <td>320</td>\n",
       "      <td>320</td>\n",
       "    </tr>\n",
       "    <tr>\n",
       "      <th>beef</th>\n",
       "      <td>508</td>\n",
       "      <td>508</td>\n",
       "    </tr>\n",
       "    <tr>\n",
       "      <th>berries</th>\n",
       "      <td>326</td>\n",
       "      <td>326</td>\n",
       "    </tr>\n",
       "    <tr>\n",
       "      <th>beverages</th>\n",
       "      <td>248</td>\n",
       "      <td>248</td>\n",
       "    </tr>\n",
       "    <tr>\n",
       "      <th>bottled beer</th>\n",
       "      <td>678</td>\n",
       "      <td>678</td>\n",
       "    </tr>\n",
       "    <tr>\n",
       "      <th>...</th>\n",
       "      <td>...</td>\n",
       "      <td>...</td>\n",
       "    </tr>\n",
       "    <tr>\n",
       "      <th>whipped/sour cream</th>\n",
       "      <td>654</td>\n",
       "      <td>654</td>\n",
       "    </tr>\n",
       "    <tr>\n",
       "      <th>white bread</th>\n",
       "      <td>359</td>\n",
       "      <td>359</td>\n",
       "    </tr>\n",
       "    <tr>\n",
       "      <th>white wine</th>\n",
       "      <td>175</td>\n",
       "      <td>175</td>\n",
       "    </tr>\n",
       "    <tr>\n",
       "      <th>whole milk</th>\n",
       "      <td>2363</td>\n",
       "      <td>2363</td>\n",
       "    </tr>\n",
       "    <tr>\n",
       "      <th>yogurt</th>\n",
       "      <td>1285</td>\n",
       "      <td>1285</td>\n",
       "    </tr>\n",
       "  </tbody>\n",
       "</table>\n",
       "<p>64 rows × 2 columns</p>\n",
       "</div>"
      ],
      "text/plain": [
       "                    Member_number  Date\n",
       "itemDescription                        \n",
       "UHT-milk                      320   320\n",
       "beef                          508   508\n",
       "berries                       326   326\n",
       "beverages                     248   248\n",
       "bottled beer                  678   678\n",
       "...                           ...   ...\n",
       "whipped/sour cream            654   654\n",
       "white bread                   359   359\n",
       "white wine                    175   175\n",
       "whole milk                   2363  2363\n",
       "yogurt                       1285  1285\n",
       "\n",
       "[64 rows x 2 columns]"
      ]
     },
     "execution_count": 111,
     "metadata": {},
     "output_type": "execute_result"
    }
   ],
   "source": [
    "counts = data.groupby('itemDescription').count()\n",
    "counts[counts['Member_number'] >= minFreq]"
   ]
  }
 ],
 "metadata": {
  "kernelspec": {
   "display_name": "Python 3",
   "language": "python",
   "name": "python3"
  },
  "language_info": {
   "codemirror_mode": {
    "name": "ipython",
    "version": 3
   },
   "file_extension": ".py",
   "mimetype": "text/x-python",
   "name": "python",
   "nbconvert_exporter": "python",
   "pygments_lexer": "ipython3",
   "version": "3.12.1"
  }
 },
 "nbformat": 4,
 "nbformat_minor": 2
}
